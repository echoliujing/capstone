{
 "cells": [
  {
   "cell_type": "code",
   "execution_count": null,
   "id": "77e76eed",
   "metadata": {},
   "outputs": [],
   "source": [
    "import pandas as pd"
   ]
  },
  {
   "cell_type": "markdown",
   "id": "5b952f55",
   "metadata": {},
   "source": [
    "## Data processing ##\n",
    "\n",
    "### Define the data structure of rows ###"
   ]
  },
  {
   "cell_type": "code",
   "execution_count": 1,
   "id": "b2425c7e",
   "metadata": {},
   "outputs": [],
   "source": [
    "# is_gold - true/false - If true, will only match if the author has reddit gold. If false, will only match if they do not have gold.\n",
    "# is_submitter - true/false - (only relevant when checking comments) If true, will only match if the author \n",
    "# was also the submitter of the post being commented inside. If false, will only match if they were not.\n",
    "# send_replies – When True, messages will be sent to the submission author when comments are made to the submission\n",
    "\n",
    "data_type = {\"subreddit\": \"string\", \"subreddit_id\": \"string\", \"subreddit_type\": \"string\", \"author\": \"string\", \"body\" : \"string\", \n",
    "            \"created_date\" : \"string\", \"created_utc\": \"string\", \"retrieved_on\" : \"string\", \n",
    "            \"id\": \"string\", \"parent_id\": \"string\", \"link_id\": \"string\", \"score\": \"int\", \"total_awards_received\": \"int\", \n",
    "            \"controversiality\": \"int\", \"gilded\": \"int\", \n",
    "            \"collapsed_because_crowd_control\": \"int\", \"collapsed_reason\": \"string\", \"distinguished\": \"string\", \"removal_reason\": \"string\",\n",
    "            \"author_created_utc\": \"string\", \"author_fullname\": \"string\", \"author_patreon_flair\": \"bool\", \"author_premium\": \"bool\",\n",
    "            \"can_gild\": \"bool\", \"can_mod_post\": \"bool\", \"collapsed\": \"bool\", \"is_submitter\": \"bool\", \"_edited\": \"string\", \"locked\": \"bool\",\n",
    "            \"quarantined\": \"bool\", \"no_follow\": \"bool\", \"send_replies\": \"bool\", \"stickied\": \"bool\", \"author_flair_text\": \"string\"}"
   ]
  },
  {
   "cell_type": "markdown",
   "id": "ec7e6b70",
   "metadata": {},
   "source": [
    "### read all the csv files using the defined data structure, remove deleted rows ###\n",
    "Some of the rows are marked as \"deleted\" which indicate the contents had been removed for some reasons. We need to remove then as they do not contribute to our analysis.\n",
    "\n",
    "the folder of process data is \"./data\". For testing, please download the data (xxxx.csv) into this folder firstly. The resulted data is called xxxx_iphone_revised.csv. They will be stored in the \"./data\". "
   ]
  },
  {
   "cell_type": "code",
   "execution_count": 2,
   "id": "48f161f2",
   "metadata": {},
   "outputs": [
    {
     "data": {
      "text/plain": [
       "\"\\nfor x in range(2008, 2020):\\n    df = pd.read_csv(f'./data/{x}.csv')\\n    df = df[(df.body != '[deleted]') & (df.body != '[removed]')]\\n    df.drop(columns = ['Unnamed: 0'], inplace = True)\\n    df.to_csv(f'./data/{x}_revised.csv')\\n\""
      ]
     },
     "execution_count": 2,
     "metadata": {},
     "output_type": "execute_result"
    }
   ],
   "source": [
    "# read the data and remove [deleted] row\n",
    "# we comment out the codes as we already process the data\n",
    "\n",
    "\n",
    "for x in range(2008, 2020):\n",
    "    df = pd.read_csv(f'./data/{x}.csv')\n",
    "    df = df[(df.body != '[deleted]') & (df.body != '[removed]')]\n",
    "    df.drop(columns = ['Unnamed: 0'], inplace = True)\n",
    "    df.to_csv(f'./data/{x}_revised.csv')\n",
    "\n"
   ]
  },
  {
   "cell_type": "markdown",
   "id": "7e073798",
   "metadata": {},
   "source": [
    "### Identify All Posts Related to iPhone on Reddit ###\n",
    "\n",
    "We conducted a review and found that the subreddits apple and iphone contain the most relevant discussions about the iPhone. However, the 'apple' subreddit also includes posts about other Apple products like Macs, iPod Touch, and iTunes. To ensure relevance, we will filter out these non-iPhone related posts. Our approach assumes that all posts within a single discussion thread focus on the same topic. Therefore, we will retain any thread in the 'apple' subreddit if at least one post within that thread mentions the iPhone.\""
   ]
  },
  {
   "cell_type": "code",
   "execution_count": 3,
   "id": "5ad04b0f",
   "metadata": {},
   "outputs": [],
   "source": [
    "def locate_iphone_post(data):\n",
    "    \"\"\"\n",
    "    Find the parent_ids that contain discussions about iPhone.\n",
    "    \"\"\"\n",
    "    df_apple = data[data.subreddit == 'apple']\n",
    "    related_discussion = df_apple[df_apple.body.str.contains('iphone', flags = re.IGNORECASE)]\n",
    "    return(related_discussion.link_id.unique())"
   ]
  },
  {
   "cell_type": "code",
   "execution_count": 4,
   "id": "9b385812",
   "metadata": {},
   "outputs": [],
   "source": [
    "def extract_all_iphone_post(data):\n",
    "    ids = locate_iphone_post(data)\n",
    "    return(data[(data.subreddit == 'iphone') | (data.link_id.isin(ids))])"
   ]
  },
  {
   "cell_type": "code",
   "execution_count": 5,
   "id": "a626ddb2",
   "metadata": {},
   "outputs": [],
   "source": [
    "# final clean, only retain iPhone related posts each year\n",
    "\n",
    "def get_iphone_data_yearly(data, filename = None):\n",
    "    \"\"\"\n",
    "    \"\"\"\n",
    "    df = extract_all_iphone_post(data)\n",
    "    df.drop(columns = ['Unnamed: 0'], inplace = True)\n",
    "    if filename != None:\n",
    "        df.to_csv(filename)\n",
    "    return(df)"
   ]
  },
  {
   "cell_type": "markdown",
   "id": "89c9d2d2",
   "metadata": {},
   "source": [
    "The resulted data is called xxxx_iphone_v2.csv. They will be stored in the \"./data\". "
   ]
  },
  {
   "cell_type": "code",
   "execution_count": null,
   "id": "d858e0f1",
   "metadata": {},
   "outputs": [],
   "source": [
    "# comment the following code because we already run it\n",
    "\n",
    "\n",
    "for x in range(2008, 2020):\n",
    "    file_name = f'./data/{x}_revised.csv'\n",
    "    save_path = f'./data/{x}_iphone_v2.csv'\n",
    "    data = pd.read_csv(file_name, dtype=data_type, header = 0)\n",
    "    get_iphone_data_yearly(data, filename = save_path)\n"
   ]
  },
  {
   "cell_type": "code",
   "execution_count": null,
   "id": "db7f8a9c",
   "metadata": {},
   "outputs": [],
   "source": []
  }
 ],
 "metadata": {
  "kernelspec": {
   "display_name": "Python 3 (ipykernel)",
   "language": "python",
   "name": "python3"
  },
  "language_info": {
   "codemirror_mode": {
    "name": "ipython",
    "version": 3
   },
   "file_extension": ".py",
   "mimetype": "text/x-python",
   "name": "python",
   "nbconvert_exporter": "python",
   "pygments_lexer": "ipython3",
   "version": "3.11.4"
  }
 },
 "nbformat": 4,
 "nbformat_minor": 5
}
